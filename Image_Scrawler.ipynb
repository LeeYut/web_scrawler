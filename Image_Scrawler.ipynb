{
 "cells": [
  {
   "cell_type": "markdown",
   "metadata": {},
   "source": [
    "这是一个关于从搜索引擎上下载图片的教程。\n",
    "使用的环境是：python 3。\n",
    "用到的库有beautiful soup4和requests。\n",
    "使用的搜索引擎是雅虎日本的图片搜索引擎。我也尝试过爬取谷歌的图片搜索，我只找到了缩略图的路径。所以这个notebook里面就用雅虎日本为例子进行说明。"
   ]
  },
  {
   "cell_type": "code",
   "execution_count": 1,
   "metadata": {
    "collapsed": true
   },
   "outputs": [],
   "source": [
    "#导入相关的库文件\n",
    "import requests\n",
    "import shutil\n",
    "import os\n",
    "from bs4 import BeautifulSoup"
   ]
  },
  {
   "cell_type": "markdown",
   "metadata": {},
   "source": [
    "其实爬虫的原理挺简单的。拿到一个网站的地址后，按图索骥，找到对应的页面并且下载。然后在这个页面文件中找到图片的地址就可以了。我们先构建一下这个地址。"
   ]
  },
  {
   "cell_type": "code",
   "execution_count": 2,
   "metadata": {
    "collapsed": true
   },
   "outputs": [],
   "source": [
    "#松屋是一家日本的牛肉饭快餐提供商，我准备从搜索引擎中依据该关键词下载图片\n",
    "query = \"松屋\"\n",
    "#url的构建需要多尝试几下，然后找到 query word应该被放在哪里\n",
    "url = 'https://search.yahoo.co.jp/image/search;_ylt=A2RivbCKbvVZYhQA9SKU3uV7?p=' + query + '&aq=-1&oq=&ei=UTF-8'\n",
    "#很多网站都会禁止机器人访问，所以在这里加上header伪装成人\n",
    "headers = {'User-Agent': 'Mozilla/5.0 (Macintosh; Intel Mac OS X 10_12_3) AppleWebKit/537.36 (KHTML, like Gecko) Chrome/56.0.2924.87 Safari/537.36'}\n",
    "#requests比较好用，比较少有格式之间的问题\n",
    "r = requests.get(url, headers = headers)\n",
    "#用 r.text 获取文本的信息，选用的解析器是 html.parser，也可以选择别的解析器\n",
    "soup = BeautifulSoup(r.text, 'html.parser')\n"
   ]
  },
  {
   "cell_type": "markdown",
   "metadata": {},
   "source": [
    "Beautiful Soup这个工具可以帮我们构建一棵树，让我们可以快速找到我们需要的信息所处的位置。我们用chrome浏览器查看网页的结构（inspect）。\n",
    "![title](snip1.PNG)\n",
    "我在这里截取了一部分，要找的图片路径就是有a标签，href，target属性（attribute）的那一个格子里面。知道这些了，用Beautiful Soup可以快速的获得。"
   ]
  },
  {
   "cell_type": "code",
   "execution_count": 4,
   "metadata": {
    "collapsed": false
   },
   "outputs": [
    {
     "name": "stdout",
     "output_type": "stream",
     "text": [
      "-------------------------------------\n",
      "https://ord.yahoo.co.jp/o/image/RV=1/RE=1509358279/RH=b3JkLnlhaG9vLmNvLmpw/RB=/RU=aHR0cDovL21jaGEtdHcuY29tL3dwLWNvbnRlbnQvdXBsb2Fkcy8yMDE0LzA1LyVFNyU4OSU5QiVFNCVCOCVCQzQuanBn/RS=^ADBxt9Jml44q4rKBnbfwV8s2ukn9BY-;_ylt=A2RivchGqfVZz0cA6TuU3uV7\n",
      "-------------------------------------\n",
      "https://ord.yahoo.co.jp/o/image/RV=1/RE=1509358279/RH=b3JkLnlhaG9vLmNvLmpw/RB=/RU=aHR0cDovL21jaGEtdHcuY29tL3dwLWNvbnRlbnQvdXBsb2Fkcy8yMDE0LzA1LyVFNyU4OSU5QiVFNCVCOCVCQzQuanBn/RS=^ADBxt9Jml44q4rKBnbfwV8s2ukn9BY-;_ylt=A2RivchGqfVZz0cA6DuU3uV7\n",
      "-------------------------------------\n",
      "https://ord.yahoo.co.jp/o/image/RV=1/RE=1509358279/RH=b3JkLnlhaG9vLmNvLmpw/RB=/RU=aHR0cHM6Ly90YmxnLmstaW1nLmNvbS9yZXNpemUvNjYweDM3MGMvcmVzdGF1cmFudC9pbWFnZXMvUnZ3LzU0NDU2LzU0NDU2NjU2LmpwZz90b2tlbj04MTQ5ZTRkJmFwaT12Mg--/RS=^ADBxT2Daj8OAA9nyV0agxEf6ZacAf8-;_ylt=A2RivchGqfVZz0cA6zuU3uV7\n",
      "-------------------------------------\n",
      "https://ord.yahoo.co.jp/o/image/RV=1/RE=1509358279/RH=b3JkLnlhaG9vLmNvLmpw/RB=/RU=aHR0cHM6Ly90YmxnLmstaW1nLmNvbS9yZXNpemUvNjYweDM3MGMvcmVzdGF1cmFudC9pbWFnZXMvUnZ3LzU0NDU2LzU0NDU2NjU2LmpwZz90b2tlbj04MTQ5ZTRkJmFwaT12Mg--/RS=^ADBxT2Daj8OAA9nyV0agxEf6ZacAf8-;_ylt=A2RivchGqfVZz0cA6juU3uV7\n",
      "-------------------------------------\n",
      "https://ord.yahoo.co.jp/o/image/RV=1/RE=1509358279/RH=b3JkLnlhaG9vLmNvLmpw/RB=/RU=aHR0cDovL2JhYmFtZXNoaS53ZWIuZmMyLmNvbS9pbWcvc2hvcC8xMTA4MTMtbWF0c3V5YS5qcGc-/RS=^ADBU.qyeix1iED517ONhtM8tjie80k-;_ylt=A2RivchGqfVZz0cA7TuU3uV7\n",
      "-------------------------------------\n",
      "https://ord.yahoo.co.jp/o/image/RV=1/RE=1509358279/RH=b3JkLnlhaG9vLmNvLmpw/RB=/RU=aHR0cDovL2JhYmFtZXNoaS53ZWIuZmMyLmNvbS9pbWcvc2hvcC8xMTA4MTMtbWF0c3V5YS5qcGc-/RS=^ADBU.qyeix1iED517ONhtM8tjie80k-;_ylt=A2RivchGqfVZz0cA7DuU3uV7\n",
      "-------------------------------------\n",
      "https://ord.yahoo.co.jp/o/image/RV=1/RE=1509358279/RH=b3JkLnlhaG9vLmNvLmpw/RB=/RU=aHR0cDovL2Nkbi5idXp6LXBsdXMuY29tL3dwLWNvbnRlbnQvdXBsb2Fkcy8yMDE2LzEyL2dtMi5qcGc-/RS=^ADBPqp6Z7d3PnMo26QlL9t1_C1rX.0-;_ylt=A2RivchGqfVZz0cA7zuU3uV7\n",
      "-------------------------------------\n",
      "https://ord.yahoo.co.jp/o/image/RV=1/RE=1509358279/RH=b3JkLnlhaG9vLmNvLmpw/RB=/RU=aHR0cDovL2Nkbi5idXp6LXBsdXMuY29tL3dwLWNvbnRlbnQvdXBsb2Fkcy8yMDE2LzEyL2dtMi5qcGc-/RS=^ADBPqp6Z7d3PnMo26QlL9t1_C1rX.0-;_ylt=A2RivchGqfVZz0cA7juU3uV7\n",
      "-------------------------------------\n",
      "https://ord.yahoo.co.jp/o/image/RV=1/RE=1509358279/RH=b3JkLnlhaG9vLmNvLmpw/RB=/RU=aHR0cHM6Ly90YmxnLmstaW1nLmNvbS9yZXN0YXVyYW50L2ltYWdlcy9SdncvMjIwNDEvMjIwNDExNzAuanBn/RS=^ADB4fXDOrSKpgS9OeEMQiMM5y5Sp8o-;_ylt=A2RivchGqfVZz0cA8TuU3uV7\n",
      "-------------------------------------\n",
      "https://ord.yahoo.co.jp/o/image/RV=1/RE=1509358279/RH=b3JkLnlhaG9vLmNvLmpw/RB=/RU=aHR0cHM6Ly90YmxnLmstaW1nLmNvbS9yZXN0YXVyYW50L2ltYWdlcy9SdncvMjIwNDEvMjIwNDExNzAuanBn/RS=^ADB4fXDOrSKpgS9OeEMQiMM5y5Sp8o-;_ylt=A2RivchGqfVZz0cA8DuU3uV7\n",
      "-------------------------------------\n",
      "https://ord.yahoo.co.jp/o/image/RV=1/RE=1509358279/RH=b3JkLnlhaG9vLmNvLmpw/RB=/RU=aHR0cHM6Ly9saDQuZ2dwaHQuY29tL2g1VUQ1aGlYNmRHVVRVMzQtSFR3YUtCMHZmaXd6aHlHMmd6dGd2bV9seUEwVmlUTnNXRGZXUUZXZFVEWUs1OVVWejQ9dzMwMA--/RS=^ADBeTx0uFzmt95CgmvLUO_6692CGzs-;_ylt=A2RivchGqfVZz0cA8zuU3uV7\n",
      "-------------------------------------\n",
      "https://ord.yahoo.co.jp/o/image/RV=1/RE=1509358279/RH=b3JkLnlhaG9vLmNvLmpw/RB=/RU=aHR0cHM6Ly9saDQuZ2dwaHQuY29tL2g1VUQ1aGlYNmRHVVRVMzQtSFR3YUtCMHZmaXd6aHlHMmd6dGd2bV9seUEwVmlUTnNXRGZXUUZXZFVEWUs1OVVWejQ9dzMwMA--/RS=^ADBeTx0uFzmt95CgmvLUO_6692CGzs-;_ylt=A2RivchGqfVZz0cA8juU3uV7\n",
      "-------------------------------------\n",
      "https://ord.yahoo.co.jp/o/image/RV=1/RE=1509358279/RH=b3JkLnlhaG9vLmNvLmpw/RB=/RU=aHR0cHM6Ly93d3cubWF0c3V5YWZvb2RzLmNvLmpwL3dvcmRwcmVzcy93cC1jb250ZW50L3VwbG9hZHMvMjAxNy8wOC8xNzA4MDFfbWFiby5qcGc-/RS=^ADBN4wXhRjMphBhviO7TOrp0r8QP5Q-;_ylt=A2RivchGqfVZz0cA9TuU3uV7\n",
      "-------------------------------------\n",
      "https://ord.yahoo.co.jp/o/image/RV=1/RE=1509358279/RH=b3JkLnlhaG9vLmNvLmpw/RB=/RU=aHR0cHM6Ly93d3cubWF0c3V5YWZvb2RzLmNvLmpwL3dvcmRwcmVzcy93cC1jb250ZW50L3VwbG9hZHMvMjAxNy8wOC8xNzA4MDFfbWFiby5qcGc-/RS=^ADBN4wXhRjMphBhviO7TOrp0r8QP5Q-;_ylt=A2RivchGqfVZz0cA9DuU3uV7\n",
      "-------------------------------------\n",
      "https://ord.yahoo.co.jp/o/image/RV=1/RE=1509358279/RH=b3JkLnlhaG9vLmNvLmpw/RB=/RU=aHR0cHM6Ly90YmxnLmstaW1nLmNvbS9yZXN0YXVyYW50L2ltYWdlcy9SdncvMjQ5Mi8yNDkyNDM4LmpwZw--/RS=^ADBuAabuqgbjnKsuylvML2i2wOmRPI-;_ylt=A2RivchGqfVZz0cA9zuU3uV7\n",
      "-------------------------------------\n",
      "https://ord.yahoo.co.jp/o/image/RV=1/RE=1509358279/RH=b3JkLnlhaG9vLmNvLmpw/RB=/RU=aHR0cHM6Ly90YmxnLmstaW1nLmNvbS9yZXN0YXVyYW50L2ltYWdlcy9SdncvMjQ5Mi8yNDkyNDM4LmpwZw--/RS=^ADBuAabuqgbjnKsuylvML2i2wOmRPI-;_ylt=A2RivchGqfVZz0cA9juU3uV7\n",
      "-------------------------------------\n",
      "https://ord.yahoo.co.jp/o/image/RV=1/RE=1509358279/RH=b3JkLnlhaG9vLmNvLmpw/RB=/RU=aHR0cHM6Ly9wYnMudHdpbWcuY29tL3Byb2ZpbGVfaW1hZ2VzLzQyNTYyMjM1MjYyMjE0MTQ0MS9VWkRJS2tNdC5qcGVn/RS=^ADB8w3CspzWyuFeewYA.F7AsP9mRTY-;_ylt=A2RivchGqfVZz0cA.TuU3uV7\n",
      "-------------------------------------\n",
      "https://ord.yahoo.co.jp/o/image/RV=1/RE=1509358279/RH=b3JkLnlhaG9vLmNvLmpw/RB=/RU=aHR0cHM6Ly9wYnMudHdpbWcuY29tL3Byb2ZpbGVfaW1hZ2VzLzQyNTYyMjM1MjYyMjE0MTQ0MS9VWkRJS2tNdC5qcGVn/RS=^ADB8w3CspzWyuFeewYA.F7AsP9mRTY-;_ylt=A2RivchGqfVZz0cA.DuU3uV7\n",
      "-------------------------------------\n",
      "https://ord.yahoo.co.jp/o/image/RV=1/RE=1509358279/RH=b3JkLnlhaG9vLmNvLmpw/RB=/RU=aHR0cHM6Ly94bi0taWRrMGJuNmd0NjY0Yy5jb20vd3AtY29udGVudC91cGxvYWRzLzIwMTUvMTEvbWF0c3V5YTAzLmpwZw--/RS=^ADB3cQWA8VAHod_s_vmrl0b7QHWZt8-;_ylt=A2RivchGqfVZz0cA.zuU3uV7\n",
      "-------------------------------------\n",
      "https://ord.yahoo.co.jp/o/image/RV=1/RE=1509358279/RH=b3JkLnlhaG9vLmNvLmpw/RB=/RU=aHR0cHM6Ly94bi0taWRrMGJuNmd0NjY0Yy5jb20vd3AtY29udGVudC91cGxvYWRzLzIwMTUvMTEvbWF0c3V5YTAzLmpwZw--/RS=^ADB3cQWA8VAHod_s_vmrl0b7QHWZt8-;_ylt=A2RivchGqfVZz0cA.juU3uV7\n",
      "-------------------------------------\n",
      "https://ord.yahoo.co.jp/o/image/RV=1/RE=1509358279/RH=b3JkLnlhaG9vLmNvLmpw/RB=/RU=aHR0cHM6Ly93d3cubWF0c3V5YWZvb2RzLmNvLmpwL21vYmlsZS9pbWFnZXMvaW5kZXgvYXBwXzE1MDgxMS5qcGc-/RS=^ADB4X0k2HRMTeli3HaX0sEEt94H8k4-;_ylt=A2RivchGqfVZz0cA_TuU3uV7\n",
      "-------------------------------------\n",
      "https://ord.yahoo.co.jp/o/image/RV=1/RE=1509358279/RH=b3JkLnlhaG9vLmNvLmpw/RB=/RU=aHR0cHM6Ly93d3cubWF0c3V5YWZvb2RzLmNvLmpwL21vYmlsZS9pbWFnZXMvaW5kZXgvYXBwXzE1MDgxMS5qcGc-/RS=^ADB4X0k2HRMTeli3HaX0sEEt94H8k4-;_ylt=A2RivchGqfVZz0cA_DuU3uV7\n",
      "-------------------------------------\n",
      "https://ord.yahoo.co.jp/o/image/RV=1/RE=1509358279/RH=b3JkLnlhaG9vLmNvLmpw/RB=/RU=aHR0cHM6Ly93d3cubWF0c3V5YWZvb2RzLmNvLmpwL3dvcmRwcmVzcy93cC1jb250ZW50L3VwbG9hZHMvMjAxNi8xMi8xNjEyMDZfY3JlYW0uanBn/RS=^ADBWTVWLzHT0NsCEdrH_5f62vmju_A-;_ylt=A2RivchGqfVZz0cA_zuU3uV7\n",
      "-------------------------------------\n",
      "https://ord.yahoo.co.jp/o/image/RV=1/RE=1509358279/RH=b3JkLnlhaG9vLmNvLmpw/RB=/RU=aHR0cHM6Ly93d3cubWF0c3V5YWZvb2RzLmNvLmpwL3dvcmRwcmVzcy93cC1jb250ZW50L3VwbG9hZHMvMjAxNi8xMi8xNjEyMDZfY3JlYW0uanBn/RS=^ADBWTVWLzHT0NsCEdrH_5f62vmju_A-;_ylt=A2RivchGqfVZz0cA_juU3uV7\n",
      "-------------------------------------\n",
      "https://ord.yahoo.co.jp/o/image/RV=1/RE=1509358279/RH=b3JkLnlhaG9vLmNvLmpw/RB=/RU=aHR0cHM6Ly93d3cubWF0c3V5YWZvb2RzLmNvLmpwL2ZsYXNoL2ltYWdlcy8xNzEwMjRfY3AuanBn/RS=^ADBQxs0SofmUfgQNY2Txnc5GP9GHtI-;_ylt=A2RivchGqfVZz0cAATyU3uV7\n",
      "-------------------------------------\n",
      "https://ord.yahoo.co.jp/o/image/RV=1/RE=1509358279/RH=b3JkLnlhaG9vLmNvLmpw/RB=/RU=aHR0cHM6Ly93d3cubWF0c3V5YWZvb2RzLmNvLmpwL2ZsYXNoL2ltYWdlcy8xNzEwMjRfY3AuanBn/RS=^ADBQxs0SofmUfgQNY2Txnc5GP9GHtI-;_ylt=A2RivchGqfVZz0cAADyU3uV7\n",
      "-------------------------------------\n",
      "https://ord.yahoo.co.jp/o/image/RV=1/RE=1509358279/RH=b3JkLnlhaG9vLmNvLmpw/RB=/RU=aHR0cDovL3RrLmlzbWNkbi5qcC9td2ltZ3MvNi82LzExNDAvaW1nXzY2Yjg3NTY4MWM1NWI1ZmY1MTMzNGNlM2UxMzU4MDM2MTczMzU2LmpwZw--/RS=^ADB_RUr.ZYaM9yRMpRIejF39bCCmPA-;_ylt=A2RivchGqfVZz0cAAzyU3uV7\n",
      "-------------------------------------\n",
      "https://ord.yahoo.co.jp/o/image/RV=1/RE=1509358279/RH=b3JkLnlhaG9vLmNvLmpw/RB=/RU=aHR0cDovL3RrLmlzbWNkbi5qcC9td2ltZ3MvNi82LzExNDAvaW1nXzY2Yjg3NTY4MWM1NWI1ZmY1MTMzNGNlM2UxMzU4MDM2MTczMzU2LmpwZw--/RS=^ADB_RUr.ZYaM9yRMpRIejF39bCCmPA-;_ylt=A2RivchGqfVZz0cAAjyU3uV7\n",
      "-------------------------------------\n",
      "https://ord.yahoo.co.jp/o/image/RV=1/RE=1509358279/RH=b3JkLnlhaG9vLmNvLmpw/RB=/RU=aHR0cDovL3d3dy5vZG0uY28uanAvc2FsYWRiYXIvZ3l1ZG9uLmltYWdlL2d5b2Rvbi5qcGc-/RS=^ADBYaCk0zhHqUnYZ17rElONIF0ISTw-;_ylt=A2RivchGqfVZz0cABTyU3uV7\n",
      "-------------------------------------\n",
      "https://ord.yahoo.co.jp/o/image/RV=1/RE=1509358279/RH=b3JkLnlhaG9vLmNvLmpw/RB=/RU=aHR0cDovL3d3dy5vZG0uY28uanAvc2FsYWRiYXIvZ3l1ZG9uLmltYWdlL2d5b2Rvbi5qcGc-/RS=^ADBYaCk0zhHqUnYZ17rElONIF0ISTw-;_ylt=A2RivchGqfVZz0cABDyU3uV7\n",
      "-------------------------------------\n",
      "https://ord.yahoo.co.jp/o/image/RV=1/RE=1509358279/RH=b3JkLnlhaG9vLmNvLmpw/RB=/RU=aHR0cHM6Ly93d3cubWF0c3V5YWZvb2RzLmNvLmpwL3dvcmRwcmVzcy93cC1jb250ZW50L3VwbG9hZHMvMjAxNi8wOC8xNjA4MTdfdG9yaV9idXR0ZXIuanBn/RS=^ADB8E4nA7sSMEiwrAmKT7D0HiIgB8c-;_ylt=A2RivchGqfVZz0cABzyU3uV7\n",
      "-------------------------------------\n",
      "https://ord.yahoo.co.jp/o/image/RV=1/RE=1509358279/RH=b3JkLnlhaG9vLmNvLmpw/RB=/RU=aHR0cHM6Ly93d3cubWF0c3V5YWZvb2RzLmNvLmpwL3dvcmRwcmVzcy93cC1jb250ZW50L3VwbG9hZHMvMjAxNi8wOC8xNjA4MTdfdG9yaV9idXR0ZXIuanBn/RS=^ADB8E4nA7sSMEiwrAmKT7D0HiIgB8c-;_ylt=A2RivchGqfVZz0cABjyU3uV7\n",
      "-------------------------------------\n",
      "https://ord.yahoo.co.jp/o/image/RV=1/RE=1509358279/RH=b3JkLnlhaG9vLmNvLmpw/RB=/RU=aHR0cDovL3d3dy5mdWdhMi5qcC93cC1jb250ZW50L3VwbG9hZHMvMjAxNi8wOS8xMDElRTYlOUQlQkUlRTUlQjElOEItMi5wbmc-/RS=^ADBmxkDYsU4eMEWjjKy20tRZAupeLY-;_ylt=A2RivchGqfVZz0cACTyU3uV7\n",
      "-------------------------------------\n",
      "https://ord.yahoo.co.jp/o/image/RV=1/RE=1509358279/RH=b3JkLnlhaG9vLmNvLmpw/RB=/RU=aHR0cDovL3d3dy5mdWdhMi5qcC93cC1jb250ZW50L3VwbG9hZHMvMjAxNi8wOS8xMDElRTYlOUQlQkUlRTUlQjElOEItMi5wbmc-/RS=^ADBmxkDYsU4eMEWjjKy20tRZAupeLY-;_ylt=A2RivchGqfVZz0cACDyU3uV7\n",
      "-------------------------------------\n",
      "https://ord.yahoo.co.jp/o/image/RV=1/RE=1509358279/RH=b3JkLnlhaG9vLmNvLmpw/RB=/RU=aHR0cHM6Ly9ibG9nLWltZ3MtMzctb3JpZ2luLmZjMi5jb20veS91L2sveXVraW11cmEzLzEyMDEwNl9NYXRzdXlhMi5qcGc-/RS=^ADBZpS8O9YKYcd8Iyy09R77KjHCZLE-;_ylt=A2RivchGqfVZz0cACzyU3uV7\n",
      "-------------------------------------\n",
      "https://ord.yahoo.co.jp/o/image/RV=1/RE=1509358279/RH=b3JkLnlhaG9vLmNvLmpw/RB=/RU=aHR0cHM6Ly9ibG9nLWltZ3MtMzctb3JpZ2luLmZjMi5jb20veS91L2sveXVraW11cmEzLzEyMDEwNl9NYXRzdXlhMi5qcGc-/RS=^ADBZpS8O9YKYcd8Iyy09R77KjHCZLE-;_ylt=A2RivchGqfVZz0cACjyU3uV7\n",
      "-------------------------------------\n",
      "https://ord.yahoo.co.jp/o/image/RV=1/RE=1509358279/RH=b3JkLnlhaG9vLmNvLmpw/RB=/RU=aHR0cHM6Ly90YmxnLmstaW1nLmNvbS9yZXN0YXVyYW50L2ltYWdlcy9SdncvMTcwNjQvNjQweDY0MF9yZWN0XzE3MDY0MDE5LmpwZw--/RS=^ADBg56QzaJv.Sgt7LBuaXUMoSwEPZM-;_ylt=A2RivchGqfVZz0cADTyU3uV7\n",
      "-------------------------------------\n",
      "https://ord.yahoo.co.jp/o/image/RV=1/RE=1509358279/RH=b3JkLnlhaG9vLmNvLmpw/RB=/RU=aHR0cHM6Ly90YmxnLmstaW1nLmNvbS9yZXN0YXVyYW50L2ltYWdlcy9SdncvMTcwNjQvNjQweDY0MF9yZWN0XzE3MDY0MDE5LmpwZw--/RS=^ADBg56QzaJv.Sgt7LBuaXUMoSwEPZM-;_ylt=A2RivchGqfVZz0cADDyU3uV7\n",
      "-------------------------------------\n",
      "https://ord.yahoo.co.jp/o/image/RV=1/RE=1509358279/RH=b3JkLnlhaG9vLmNvLmpw/RB=/RU=aHR0cHM6Ly9pLmd6bi5qcC9pbWcvMjAxNi8wOS8xNC9tYXRzdXlhLWNoZWVzZS1mb25kdWUtaGFtYnVyZy9QMzg4MDM3NC5qcGc-/RS=^ADBPzP1y33s7X3RVE1rK1o5ofN3qKU-;_ylt=A2RivchGqfVZz0cADzyU3uV7\n",
      "-------------------------------------\n",
      "https://ord.yahoo.co.jp/o/image/RV=1/RE=1509358279/RH=b3JkLnlhaG9vLmNvLmpw/RB=/RU=aHR0cHM6Ly9pLmd6bi5qcC9pbWcvMjAxNi8wOS8xNC9tYXRzdXlhLWNoZWVzZS1mb25kdWUtaGFtYnVyZy9QMzg4MDM3NC5qcGc-/RS=^ADBPzP1y33s7X3RVE1rK1o5ofN3qKU-;_ylt=A2RivchGqfVZz0cADjyU3uV7\n",
      "-------------------------------------\n",
      "javascript:void(0);\n"
     ]
    }
   ],
   "source": [
    "#定义一个过滤器。bs4还有很多用法，需要的时候可以进行查询\n",
    "def has_class_but_no_id(tag):\n",
    "    return tag.has_attr('href') and tag.has_attr('target')\n",
    "ll = soup.find_all(has_class_but_no_id)\n",
    "#这里存着图片对应的地址\n",
    "image_urls= []\n",
    "for i in ll:\n",
    "    c = str(i)\n",
    "    d = c.split(\" \")\n",
    "    print(\"-------------------------------------\")\n",
    "    print (d[1][6:-1])\n",
    "    image_urls.append(d[1][6:-1])"
   ]
  },
  {
   "cell_type": "markdown",
   "metadata": {},
   "source": [
    "拿到图片的地址后距离成功就相当的进啦。创建一个文件夹（我用了和查询词相同的名字）用于保存这些图片，然后下载就好了。注意到拿到的图片地址并不一定全部有效，所以需要一个判别的过程。其实很简单，直接看代码好了。"
   ]
  },
  {
   "cell_type": "code",
   "execution_count": 5,
   "metadata": {
    "collapsed": false
   },
   "outputs": [
    {
     "name": "stdout",
     "output_type": "stream",
     "text": [
      "can't open this page\n",
      "can't open this page\n"
     ]
    }
   ],
   "source": [
    "if not (os.path.exists(query)):\n",
    "    os.mkdir(query)\n",
    "    \n",
    "#其实还是有点不完善，image_urls里的最后一个项目其实不是图片地址    \n",
    "for index, url in enumerate(image_urls[:-1]):\n",
    "    try:\n",
    "        r = requests.get(url, timeout = 3, headers = headers, stream = True)\n",
    "        with open(query + \"/\" + query + str(index) + '.png', 'wb') as out_file:\n",
    "            shutil.copyfileobj(r.raw, out_file)\n",
    "        del r\n",
    "    except requests.exceptions.ConnectionError:\n",
    "        print(\"can't open this page\")\n"
   ]
  },
  {
   "cell_type": "markdown",
   "metadata": {},
   "source": [
    "可以看到有两个连接是打不开的，用try...catch后就避免了exception扔出来后就死掉了的悲剧。爬下来的图片像这样：\n",
    "![title](snip2.PNG)"
   ]
  },
  {
   "cell_type": "markdown",
   "metadata": {},
   "source": [
    "小结一下：\n",
    "\n",
    "一. 关于Jupyter Notebook使用的小技巧：1.怎么插入文字。依次按下Esc，m，Enter就可以输入文字，点击一下执行按钮就可以退出写文字的部分。\n",
    "2.怎么插入图片。![title](picture_name.PNG)，注意不要用引号哦。\n",
    "\n",
    "二. 这里只是介绍了一个爬虫的小例子。预定以后还需要学习怎么用正则进行更复杂的匹配（正则入门了好多次，都没有在这种场合真实用过），多了解一些requests的用法。\n"
   ]
  }
 ],
 "metadata": {
  "kernelspec": {
   "display_name": "Python [default]",
   "language": "python",
   "name": "python3"
  },
  "language_info": {
   "codemirror_mode": {
    "name": "ipython",
    "version": 3
   },
   "file_extension": ".py",
   "mimetype": "text/x-python",
   "name": "python",
   "nbconvert_exporter": "python",
   "pygments_lexer": "ipython3",
   "version": "3.5.2"
  }
 },
 "nbformat": 4,
 "nbformat_minor": 1
}
